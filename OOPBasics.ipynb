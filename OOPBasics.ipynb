{
 "cells": [
  {
   "cell_type": "markdown",
   "id": "74f65325-e074-4750-9170-c6085a01e90d",
   "metadata": {},
   "source": [
    "# OOP Programming Notes ##\n",
    "\n",
    "In this notebook, I will be practicing beginner level object oriented programming.\n",
    "\n",
    "***"
   ]
  },
  {
   "cell_type": "markdown",
   "id": "094c1992-9ecc-43dc-a3a7-aa42263ebd5b",
   "metadata": {
    "jp-MarkdownHeadingCollapsed": true
   },
   "source": [
    "## Intro"
   ]
  },
  {
   "cell_type": "code",
   "execution_count": 7,
   "id": "0461a2ed-5f0b-4cdd-a878-631bfdbe6272",
   "metadata": {},
   "outputs": [],
   "source": [
    "item1 = 'Phone'\n",
    "item1_price = 100\n",
    "item1_quantity = 5\n",
    "item1_price_total = item1_price * item1_quantity"
   ]
  },
  {
   "cell_type": "code",
   "execution_count": 8,
   "id": "1f70b7b4-40e9-4f37-a635-c7939c26f7ce",
   "metadata": {},
   "outputs": [
    {
     "name": "stdout",
     "output_type": "stream",
     "text": [
      "<class 'str'>\n",
      "<class 'int'>\n",
      "<class 'int'>\n",
      "<class 'int'>\n"
     ]
    }
   ],
   "source": [
    "print(type(item1))\n",
    "print(type(item1_price))\n",
    "print(type(item1_quantity))\n",
    "print(type(item1_price_total))"
   ]
  },
  {
   "cell_type": "markdown",
   "id": "fb6d3326-6335-4d24-a78f-f21b07e07f03",
   "metadata": {},
   "source": [
    "Here we can see that item1 is instantiated as a string class, likewise item1_price, quantity and total are instantiated as integer classes. Now we will try to create our own class."
   ]
  },
  {
   "cell_type": "code",
   "execution_count": 9,
   "id": "471a3fb7-1dc2-468b-b420-76ff7d99bb52",
   "metadata": {},
   "outputs": [],
   "source": [
    "class Item:\n",
    "    pass"
   ]
  },
  {
   "cell_type": "code",
   "execution_count": 10,
   "id": "51551ae4-d187-407c-a137-3d5ca25b6584",
   "metadata": {},
   "outputs": [],
   "source": [
    "item1 = Item()"
   ]
  },
  {
   "cell_type": "markdown",
   "id": "68eee2bc-d3fc-4a1e-a56b-6c58e69e4ffe",
   "metadata": {},
   "source": [
    "The upper line is a practical equivalent of `random_str = str(\"4\")`\n",
    "\n",
    "Now let's go on with attributes of this Item class.\n"
   ]
  },
  {
   "cell_type": "code",
   "execution_count": 11,
   "id": "6b261037-2291-4767-8110-75576e4fbc0d",
   "metadata": {},
   "outputs": [],
   "source": [
    "item1.name = \"Phone\"\n",
    "item1.price = 100\n",
    "item1.quantity = 5"
   ]
  },
  {
   "cell_type": "markdown",
   "id": "1ee52e36-a344-4585-9dcd-08327ed772d7",
   "metadata": {},
   "source": [
    "Now let's check the types again."
   ]
  },
  {
   "cell_type": "code",
   "execution_count": 12,
   "id": "3b1ed33a-fbce-4613-a8ca-f2d730c2054c",
   "metadata": {},
   "outputs": [
    {
     "name": "stdout",
     "output_type": "stream",
     "text": [
      "<class '__main__.Item'>\n",
      "<class 'str'>\n",
      "<class 'int'>\n",
      "<class 'int'>\n"
     ]
    }
   ],
   "source": [
    "print(type(item1))\n",
    "print(type(item1.name))\n",
    "print(type(item1.price))\n",
    "print(type(item1.quantity))"
   ]
  },
  {
   "cell_type": "markdown",
   "id": "f70ede98-4ea7-486b-8cd2-df83ed6b11e5",
   "metadata": {},
   "source": [
    "Here you can see that the item1 type is returned as  <class '__main__.Item'> which means we have created our own class."
   ]
  },
  {
   "cell_type": "markdown",
   "id": "7692caea-cdaa-49c3-a61e-24d8efd1494d",
   "metadata": {
    "jp-MarkdownHeadingCollapsed": true
   },
   "source": [
    "## Creating Methods"
   ]
  },
  {
   "cell_type": "markdown",
   "id": "91997c22-3650-4f08-b94a-38b6f0cbbcc7",
   "metadata": {},
   "source": [
    "Let's first recall a method call example. For that we will revise .upper() string method as an example."
   ]
  },
  {
   "cell_type": "code",
   "execution_count": 15,
   "id": "0cba38cd-5e34-49d7-9f12-a5c166a40616",
   "metadata": {},
   "outputs": [
    {
     "name": "stdout",
     "output_type": "stream",
     "text": [
      "AAA\n"
     ]
    }
   ],
   "source": [
    "random_str = \"aaa\"\n",
    "print(random_str.upper())"
   ]
  },
  {
   "cell_type": "markdown",
   "id": "bdf924dc-4707-4a63-880b-4d34f1695450",
   "metadata": {},
   "source": [
    "Here we have called `.upper()` method that works on string classes. Let's define a similar one for our Item class."
   ]
  },
  {
   "cell_type": "code",
   "execution_count": 16,
   "id": "1e320eb8-4b63-4fd8-b4cf-e8023b7b029c",
   "metadata": {},
   "outputs": [],
   "source": [
    "class Item:\n",
    "    def calculate_total_price(self):\n",
    "        pass"
   ]
  },
  {
   "cell_type": "markdown",
   "id": "a66676ce-8924-407f-98bf-a3ad742332be",
   "metadata": {},
   "source": [
    "Here let's explain the word **self**.\n",
    "\n",
    "Self is auto generated for methods because Python always sends the object to the class methods as the first argument. If you create a method without the self parameter, There will be a TypeError _saying methodX takes 0 positional arguments but 1 was given_."
   ]
  },
  {
   "cell_type": "code",
   "execution_count": 17,
   "id": "24ad5884-b722-41f0-b437-6e4f35e8c303",
   "metadata": {
    "scrolled": true
   },
   "outputs": [
    {
     "ename": "TypeError",
     "evalue": "Item.calculate_total_price() takes 0 positional arguments but 1 was given",
     "output_type": "error",
     "traceback": [
      "\u001b[1;31m---------------------------------------------------------------------------\u001b[0m",
      "\u001b[1;31mTypeError\u001b[0m                                 Traceback (most recent call last)",
      "Cell \u001b[1;32mIn[17], line 6\u001b[0m\n\u001b[0;32m      3\u001b[0m         \u001b[38;5;28;01mpass\u001b[39;00m\n\u001b[0;32m      5\u001b[0m item1 \u001b[38;5;241m=\u001b[39m Item()\n\u001b[1;32m----> 6\u001b[0m \u001b[38;5;28mprint\u001b[39m(\u001b[43mitem1\u001b[49m\u001b[38;5;241;43m.\u001b[39;49m\u001b[43mcalculate_total_price\u001b[49m\u001b[43m(\u001b[49m\u001b[43m)\u001b[49m)\n",
      "\u001b[1;31mTypeError\u001b[0m: Item.calculate_total_price() takes 0 positional arguments but 1 was given"
     ]
    }
   ],
   "source": [
    "class Item:\n",
    "    def calculate_total_price():\n",
    "        pass\n",
    "\n",
    "item1 = Item()\n",
    "print(item1.calculate_total_price())"
   ]
  },
  {
   "cell_type": "markdown",
   "id": "f318fb90-74ca-4fd6-8b83-5e649bd08f88",
   "metadata": {},
   "source": [
    "Now let's create a correct method."
   ]
  },
  {
   "cell_type": "code",
   "execution_count": 19,
   "id": "aa9c4a73-c31b-4f82-8fab-33ad0e1392fb",
   "metadata": {},
   "outputs": [
    {
     "name": "stdout",
     "output_type": "stream",
     "text": [
      "500\n",
      "3000\n"
     ]
    }
   ],
   "source": [
    "class Item:\n",
    "    def calculate_total_price(self, x, y):\n",
    "        return x * y\n",
    "\n",
    "item1 = Item()\n",
    "item1.name = \"Phone\"\n",
    "item1.price = 100\n",
    "item1.quantity = 5\n",
    "print(item1.calculate_total_price(item1.price, item1.quantity))\n",
    "\n",
    "\n",
    "item2 = Item()\n",
    "item2.name = \"Laptop\"\n",
    "item2.price = 1000\n",
    "item2.quantity = 3\n",
    "item2.calculate_total_price(item2.price, item2.quantity)\n",
    "print(item2.calculate_total_price(item2.price, item2.quantity))\n"
   ]
  },
  {
   "cell_type": "markdown",
   "id": "4adfe8e4-6df0-4482-8060-e9c1e66afbd3",
   "metadata": {
    "jp-MarkdownHeadingCollapsed": true
   },
   "source": [
    "## init constructor"
   ]
  },
  {
   "cell_type": "markdown",
   "id": "bb54d4ed-6de9-4deb-b697-7ef8f9560aed",
   "metadata": {},
   "source": [
    "One of the missing aspect of this type of definition is that there is no set of rules to instantiate our object. It would be better for us to be able to create a template for our class so that without passing name, price and quantity values, the object instance cannot be created.\n",
    "\n",
    "This behavior can be implemented with a special method called `__init__` this is also called \"**constructor**\". \n",
    "When the class object is instatiated, the magic method `__init__`  will be called automatically."
   ]
  },
  {
   "cell_type": "code",
   "execution_count": 22,
   "id": "55f6cadc-7955-4de3-98c5-ae7074608c37",
   "metadata": {},
   "outputs": [
    {
     "name": "stdout",
     "output_type": "stream",
     "text": [
      "I am created.\n",
      "I am created.\n"
     ]
    }
   ],
   "source": [
    "class Item:\n",
    "    def __init__(self):\n",
    "        print('I am created.')\n",
    "    def calculate_total_price(self, x, y):\n",
    "        return x * y\n",
    "\n",
    "item1 = Item()\n",
    "item1.name = \"Phone\"\n",
    "item1.price = 100\n",
    "item1.quantity = 5\n",
    "\n",
    "item2 = Item()\n",
    "item2.name = \"Laptop\"\n",
    "item2.price = 1000\n",
    "item2.quantity = 3\n"
   ]
  },
  {
   "cell_type": "markdown",
   "id": "4cba4456-5d54-416d-9817-b8c85aa42131",
   "metadata": {},
   "source": [
    "Let's make it a bit more beautiful with some tweaks for arguments."
   ]
  },
  {
   "cell_type": "code",
   "execution_count": 24,
   "id": "319c39ea-2289-4dde-8ba1-dfee47f2a212",
   "metadata": {},
   "outputs": [
    {
     "name": "stdout",
     "output_type": "stream",
     "text": [
      "An instance created: Phone\n",
      "An instance created: Laptop\n"
     ]
    }
   ],
   "source": [
    "class Item:\n",
    "    def __init__(self, name):\n",
    "        print(f'An instance created: {name}')\n",
    "    def calculate_total_price(self, x, y):\n",
    "        return x * y\n",
    "\n",
    "item1 = Item('Phone')\n",
    "item1.name = \"Phone\"\n",
    "item1.price = 100\n",
    "item1.quantity = 5\n",
    "\n",
    "item2 = Item('Laptop')\n",
    "item2.name = \"Laptop\"\n",
    "item2.price = 1000\n",
    "item2.quantity = 3"
   ]
  },
  {
   "cell_type": "markdown",
   "id": "46133722-189c-4d15-916b-0038df424b62",
   "metadata": {},
   "source": [
    "Getting rid of redundancy."
   ]
  },
  {
   "cell_type": "code",
   "execution_count": 25,
   "id": "ad90d028-5c61-4146-83ce-f8d12ae3dfe3",
   "metadata": {},
   "outputs": [
    {
     "name": "stdout",
     "output_type": "stream",
     "text": [
      "Phone\n",
      "Laptop\n"
     ]
    }
   ],
   "source": [
    "class Item:\n",
    "    def __init__(self, name):\n",
    "        self.name = name\n",
    "        \n",
    "    def calculate_total_price(self, x, y):\n",
    "        return x * y\n",
    "\n",
    "item1 = Item('Phone')\n",
    "item1.price = 100\n",
    "item1.quantity = 5\n",
    "\n",
    "item2 = Item('Laptop')\n",
    "item2.price = 1000\n",
    "item2.quantity = 3\n",
    "\n",
    "print(item1.name)\n",
    "print(item2.name)"
   ]
  },
  {
   "cell_type": "code",
   "execution_count": 26,
   "id": "2014a243-2b4a-49eb-ada7-4a59cd430cc2",
   "metadata": {},
   "outputs": [
    {
     "name": "stdout",
     "output_type": "stream",
     "text": [
      "Phone\n",
      "Laptop\n",
      "100\n",
      "1000\n",
      "5\n",
      "3\n"
     ]
    }
   ],
   "source": [
    "class Item:\n",
    "    def __init__(self, name, price, quantity):\n",
    "        self.name = name\n",
    "        self.price = price\n",
    "        self.quantity = quantity\n",
    "        \n",
    "    def calculate_total_price(self, x, y):\n",
    "        return x * y\n",
    "\n",
    "item1 = Item('Phone', 100, 5)\n",
    "item2 = Item('Laptop', 1000, 3)\n",
    "\n",
    "print(item1.name)\n",
    "print(item2.name)\n",
    "print(item1.price)\n",
    "print(item2.price)\n",
    "print(item1.quantity)\n",
    "print(item2.quantity)"
   ]
  },
  {
   "cell_type": "markdown",
   "id": "22eaa548-b7cc-4540-8af7-b22eec9efe68",
   "metadata": {},
   "source": [
    "If we don't know about the quantity we can set a default value to our constructor and thus we can omit providing this value."
   ]
  },
  {
   "cell_type": "code",
   "execution_count": 27,
   "id": "0ae2551f-2188-4f27-b2bf-216400bf8475",
   "metadata": {},
   "outputs": [
    {
     "name": "stdout",
     "output_type": "stream",
     "text": [
      "Phone\n",
      "Laptop\n",
      "100\n",
      "1000\n",
      "0\n",
      "0\n"
     ]
    }
   ],
   "source": [
    "class Item:\n",
    "    def __init__(self, name, price, quantity=0):\n",
    "        self.name = name\n",
    "        self.price = price\n",
    "        self.quantity = quantity\n",
    "        \n",
    "    def calculate_total_price(self, x, y):\n",
    "        return x * y\n",
    "\n",
    "item1 = Item('Phone', 100)\n",
    "item2 = Item('Laptop', 1000)\n",
    "\n",
    "print(item1.name)\n",
    "print(item2.name)\n",
    "print(item1.price)\n",
    "print(item2.price)\n",
    "print(item1.quantity)\n",
    "print(item2.quantity)"
   ]
  },
  {
   "cell_type": "markdown",
   "id": "06c0ef1d-93e8-4f57-abbc-98de5f218f98",
   "metadata": {},
   "source": [
    "You can still add some more attributes other than the ones defined in constructor. Also, let's refine the second method a bit."
   ]
  },
  {
   "cell_type": "code",
   "execution_count": 28,
   "id": "ad3fc457-8156-4970-bf3c-d28d8511a6fc",
   "metadata": {},
   "outputs": [
    {
     "name": "stdout",
     "output_type": "stream",
     "text": [
      "500\n",
      "3000\n"
     ]
    }
   ],
   "source": [
    "class Item:\n",
    "    def __init__(self, name, price, quantity=0):\n",
    "        self.name = name\n",
    "        self.price = price\n",
    "        self.quantity = quantity\n",
    "        \n",
    "    def calculate_total_price(self):\n",
    "        return self.price * self.quantity\n",
    "\n",
    "item1 = Item('Phone', 100, 5)\n",
    "item2 = Item('Laptop', 1000, 3)\n",
    "\n",
    "item2.has_numped = False\n",
    "\n",
    "print(item1.calculate_total_price())\n",
    "print(item2.calculate_total_price())"
   ]
  },
  {
   "cell_type": "markdown",
   "id": "f818fe91-1b2a-4dcc-8efd-e26e257047f1",
   "metadata": {
    "jp-MarkdownHeadingCollapsed": true
   },
   "source": [
    "## Validating Input"
   ]
  },
  {
   "cell_type": "markdown",
   "id": "95e602f5-df45-4121-9c14-ff37153ae272",
   "metadata": {},
   "source": [
    "The upper example fails if one enters the price as a string. Let's see what happens in this situation."
   ]
  },
  {
   "cell_type": "code",
   "execution_count": 29,
   "id": "a95c852c-d917-48a9-b5e8-28e5fb187c78",
   "metadata": {},
   "outputs": [
    {
     "name": "stdout",
     "output_type": "stream",
     "text": [
      "100100100100100\n",
      "100010001000\n"
     ]
    }
   ],
   "source": [
    "class Item:\n",
    "    def __init__(self, name, price, quantity=0):\n",
    "        self.name = name\n",
    "        self.price = price\n",
    "        self.quantity = quantity\n",
    "        \n",
    "    def calculate_total_price(self):\n",
    "        return self.price * self.quantity\n",
    "\n",
    "item1 = Item('Phone', '100', 5)\n",
    "item2 = Item('Laptop', '1000', 3)\n",
    "\n",
    "item2.has_numped = False\n",
    "\n",
    "print(item1.calculate_total_price())\n",
    "print(item2.calculate_total_price())"
   ]
  },
  {
   "cell_type": "markdown",
   "id": "2fcb524a-5a2a-450f-bf46-a4b33a0cc38d",
   "metadata": {},
   "source": [
    "In order to prevent these kind of failures, we need to specify the datatypes in our init method."
   ]
  },
  {
   "cell_type": "code",
   "execution_count": 36,
   "id": "6a191d74-dee2-4fb9-93c3-d39ad438fd03",
   "metadata": {},
   "outputs": [
    {
     "name": "stdout",
     "output_type": "stream",
     "text": [
      "500\n",
      "3000\n"
     ]
    }
   ],
   "source": [
    "class Item:\n",
    "    def __init__(self, name: str, price: float, quantity=0):\n",
    "        # Run validations to the received arguments\n",
    "        assert price >= 0, f\"Price {price} is not greater than zero\"\n",
    "        assert quantity >=0, f\"Quantity {quantity} is not greater than zero\"\n",
    "        \n",
    "        # Assign the self object\n",
    "        self.name = name\n",
    "        self.price = price\n",
    "        self.quantity = quantity\n",
    "        \n",
    "    def calculate_total_price(self):\n",
    "        return self.price * self.quantity\n",
    "\n",
    "item1 = Item('Phone', 100, 5)\n",
    "item2 = Item('Laptop', 1000, 3)\n",
    "\n",
    "item2.has_numped = False\n",
    "\n",
    "print(item1.calculate_total_price())\n",
    "print(item2.calculate_total_price())"
   ]
  },
  {
   "cell_type": "markdown",
   "id": "11880d0a-80f1-4d44-b3c9-a2466436eb85",
   "metadata": {},
   "source": [
    "We have worked with instance attributes but we haven't worked with class attributes yet."
   ]
  },
  {
   "cell_type": "markdown",
   "id": "9d3d9a6e-8ff1-4158-96b4-67e4a35b039f",
   "metadata": {
    "jp-MarkdownHeadingCollapsed": true
   },
   "source": [
    "## Class Attributes"
   ]
  },
  {
   "cell_type": "code",
   "execution_count": 2,
   "id": "741ff075-e79e-4412-9366-a6ad0e85c1c0",
   "metadata": {},
   "outputs": [
    {
     "name": "stdout",
     "output_type": "stream",
     "text": [
      "0.8\n"
     ]
    }
   ],
   "source": [
    "class Item:\n",
    "    pay_rate = 0.8 #The pay rate after 20% discount\n",
    "    def __init__(self, name: str, price: float, quantity=0):\n",
    "        # Run validations to the received arguments\n",
    "        assert price >= 0, f\"Price {price} is not greater than zero\"\n",
    "        assert quantity >=0, f\"Quantity {quantity} is not greater than zero\"\n",
    "        \n",
    "        # Assign the self object\n",
    "        self.name = name\n",
    "        self.price = price\n",
    "        self.quantity = quantity\n",
    "        \n",
    "    def calculate_total_price(self):\n",
    "        return self.price * self.quantity\n",
    "\n",
    "item1 = Item('Phone', 100, 5)\n",
    "item2 = Item('Laptop', 1000, 3)\n",
    "\n",
    "item2.has_numped = False\n",
    "\n",
    "print(Item.pay_rate)"
   ]
  },
  {
   "cell_type": "markdown",
   "id": "4503531e-5b11-426e-9b72-2f2edefe1597",
   "metadata": {},
   "source": [
    "You can also reach those class attributes from instance level."
   ]
  },
  {
   "cell_type": "code",
   "execution_count": 5,
   "id": "0a0ed50e-895c-41af-b6d2-7ab7fb298fde",
   "metadata": {},
   "outputs": [
    {
     "name": "stdout",
     "output_type": "stream",
     "text": [
      "0.8\n",
      "0.8\n",
      "0.8\n"
     ]
    }
   ],
   "source": [
    "print(Item.pay_rate)\n",
    "print(item1.pay_rate)\n",
    "print(item2.pay_rate)"
   ]
  },
  {
   "cell_type": "markdown",
   "id": "439e65b7-c3ad-453a-bb46-65b85bf0c841",
   "metadata": {},
   "source": [
    "Both item1 and item2 don't have pay_rate attribute so they check class level."
   ]
  },
  {
   "cell_type": "code",
   "execution_count": 6,
   "id": "db9cf638-6d6a-4c08-bdaa-e8ab31341d43",
   "metadata": {},
   "outputs": [
    {
     "name": "stdout",
     "output_type": "stream",
     "text": [
      "{'__module__': '__main__', 'pay_rate': 0.8, '__init__': <function Item.__init__ at 0x000002B56CFBB4C0>, 'calculate_total_price': <function Item.calculate_total_price at 0x000002B56CFBB6A0>, '__dict__': <attribute '__dict__' of 'Item' objects>, '__weakref__': <attribute '__weakref__' of 'Item' objects>, '__doc__': None}\n"
     ]
    }
   ],
   "source": [
    "print(Item.__dict__) # All the attributes for class level --> This is a magic method"
   ]
  },
  {
   "cell_type": "code",
   "execution_count": 7,
   "id": "85112c45-e29e-4883-9be3-4ba3eb2f3380",
   "metadata": {},
   "outputs": [
    {
     "name": "stdout",
     "output_type": "stream",
     "text": [
      "{'name': 'Phone', 'price': 100, 'quantity': 5}\n"
     ]
    }
   ],
   "source": [
    "print(item1.__dict__) # All the attributes for instance level"
   ]
  },
  {
   "cell_type": "markdown",
   "id": "4409a8a9-c1d8-4ed9-b46f-f5da827fc80c",
   "metadata": {},
   "source": [
    "Let's write the discount method."
   ]
  },
  {
   "cell_type": "code",
   "execution_count": 14,
   "id": "73e634fa-a8e4-4354-bcd1-ec7ce49a43fd",
   "metadata": {},
   "outputs": [
    {
     "name": "stdout",
     "output_type": "stream",
     "text": [
      "80.0\n"
     ]
    }
   ],
   "source": [
    "class Item:\n",
    "    pay_rate = 0.8 #The pay rate after 20% discount\n",
    "    def __init__(self, name: str, price: float, quantity=0):\n",
    "        # Run validations to the received arguments\n",
    "        assert price >= 0, f\"Price {price} is not greater than zero\"\n",
    "        assert quantity >=0, f\"Quantity {quantity} is not greater than zero\"\n",
    "        \n",
    "        # Assign the self object\n",
    "        self.name = name\n",
    "        self.price = price\n",
    "        self.quantity = quantity\n",
    "        \n",
    "    def calculate_total_price(self):\n",
    "        return self.price * self.quantity\n",
    "\n",
    "    def apply_discount(self):\n",
    "        self.price = self.price * Item.pay_rate\n",
    "\n",
    "item1 = Item(\"Phone\", 100, 1)\n",
    "item1.apply_discount()\n",
    "print(item1.price)\n",
    "        "
   ]
  },
  {
   "cell_type": "code",
   "execution_count": 15,
   "id": "da9516b6-8f58-421d-8ce8-473fb0cbe998",
   "metadata": {},
   "outputs": [
    {
     "name": "stdout",
     "output_type": "stream",
     "text": [
      "800.0\n"
     ]
    }
   ],
   "source": [
    "item2 = Item(\"Laptop\", 1000, 3)\n",
    "item2.pay_rate = 0.7\n",
    "item2.apply_discount()\n",
    "print(item2.price)"
   ]
  },
  {
   "cell_type": "markdown",
   "id": "33bec3b7-94c3-48eb-acd8-591101164e8d",
   "metadata": {},
   "source": [
    "We still get 20% discount because we have used `Item.pay_rate` in our method."
   ]
  },
  {
   "cell_type": "code",
   "execution_count": 19,
   "id": "47df5d8e-0f04-4d7a-b0e7-c3d750ff5516",
   "metadata": {},
   "outputs": [
    {
     "name": "stdout",
     "output_type": "stream",
     "text": [
      "80.0\n",
      "700.0\n"
     ]
    }
   ],
   "source": [
    "class Item:\n",
    "    pay_rate = 0.8 #The pay rate after 20% discount\n",
    "    def __init__(self, name: str, price: float, quantity=0):\n",
    "        # Run validations to the received arguments\n",
    "        assert price >= 0, f\"Price {price} is not greater than zero\"\n",
    "        assert quantity >=0, f\"Quantity {quantity} is not greater than zero\"\n",
    "        \n",
    "        # Assign the self object\n",
    "        self.name = name\n",
    "        self.price = price\n",
    "        self.quantity = quantity\n",
    "        \n",
    "    def calculate_total_price(self):\n",
    "        return self.price * self.quantity\n",
    "\n",
    "    def apply_discount(self):\n",
    "        self.price = self.price * self.pay_rate # Now we have fixed it with self change. So that the method will use instance level attributes.\n",
    "\n",
    "item1 = Item(\"Phone\", 100, 1)\n",
    "item1.apply_discount()\n",
    "print(item1.price)\n",
    "item2 = Item(\"Laptop\", 1000, 3)\n",
    "item2.pay_rate = 0.7\n",
    "item2.apply_discount()\n",
    "print(item2.price)\n",
    "        "
   ]
  },
  {
   "cell_type": "markdown",
   "id": "69600a6c-3860-4fff-bc53-0bcd5c3bb604",
   "metadata": {},
   "source": [
    "We don't have a resource where we can just access to check all the item instances for our shop."
   ]
  },
  {
   "cell_type": "code",
   "execution_count": 20,
   "id": "af2508ce-74a4-45b8-af83-bc1e873b0fd1",
   "metadata": {},
   "outputs": [
    {
     "name": "stdout",
     "output_type": "stream",
     "text": [
      "[<__main__.Item object at 0x000002B56D6E2850>, <__main__.Item object at 0x000002B56D446D90>, <__main__.Item object at 0x000002B56D6DE650>, <__main__.Item object at 0x000002B56CEAB910>, <__main__.Item object at 0x000002B56D6E3B90>]\n"
     ]
    }
   ],
   "source": [
    "class Item:\n",
    "    pay_rate = 0.8 #The pay rate after 20% discount\n",
    "    all = []\n",
    "    def __init__(self, name: str, price: float, quantity=0):\n",
    "        # Run validations to the received arguments\n",
    "        assert price >= 0, f\"Price {price} is not greater than zero\"\n",
    "        assert quantity >=0, f\"Quantity {quantity} is not greater than zero\"\n",
    "        \n",
    "        # Assign the self object\n",
    "        self.name = name\n",
    "        self.price = price\n",
    "        self.quantity = quantity\n",
    "\n",
    "        # Actions to execute\n",
    "        Item.all.append(self)\n",
    "        \n",
    "    def calculate_total_price(self):\n",
    "        return self.price * self.quantity\n",
    "\n",
    "    def apply_discount(self):\n",
    "        self.price = self.price * self.pay_rate # Now we have fixed it with self change. So that the method will use instance level attributes.\n",
    "\n",
    "item1 = Item(\"Phone\", 100, 1)\n",
    "item2 = Item(\"Laptop\", 1000, 3)\n",
    "item3 = Item(\"Cable\", 10, 5)\n",
    "item4 = Item(\"Mouse\", 50, 5)\n",
    "item5 = Item(\"Keyboard\", 75, 5)\n",
    "\n",
    "print(Item.all)\n"
   ]
  },
  {
   "cell_type": "markdown",
   "id": "2e364d94-4e7c-4cb7-9f6c-66c1873aa83e",
   "metadata": {},
   "source": [
    "It is hard to understand the instance from this representation so in order to solve this problem a magic method can be used."
   ]
  },
  {
   "cell_type": "markdown",
   "id": "4914cbc9-2b7e-48a0-98ff-c83b48a605fa",
   "metadata": {
    "jp-MarkdownHeadingCollapsed": true
   },
   "source": [
    "## ' __repr__ ' method"
   ]
  },
  {
   "cell_type": "code",
   "execution_count": 24,
   "id": "eb3adb62-79a5-4746-be10-2edc0d80804a",
   "metadata": {},
   "outputs": [
    {
     "name": "stdout",
     "output_type": "stream",
     "text": [
      "[Item('Phone', 100, 1), Item('Laptop', 1000, 3), Item('Cable', 10, 5), Item('Mouse', 50, 5), Item('Keyboard', 75, 5)]\n"
     ]
    }
   ],
   "source": [
    "class Item:\n",
    "    pay_rate = 0.8 #The pay rate after 20% discount\n",
    "    all = []\n",
    "    def __init__(self, name: str, price: float, quantity=0):\n",
    "        # Run validations to the received arguments\n",
    "        assert price >= 0, f\"Price {price} is not greater than zero\"\n",
    "        assert quantity >=0, f\"Quantity {quantity} is not greater than zero\"\n",
    "        \n",
    "        # Assign the self object\n",
    "        self.name = name\n",
    "        self.price = price\n",
    "        self.quantity = quantity\n",
    "\n",
    "        # Actions to execute\n",
    "        Item.all.append(self)\n",
    "        \n",
    "    def calculate_total_price(self):\n",
    "        return self.price * self.quantity\n",
    "\n",
    "    def apply_discount(self):\n",
    "        self.price = self.price * self.pay_rate # Now we have fixed it with self change. So that the method will use instance level attributes.\n",
    "\n",
    "    def __repr__(self):\n",
    "        return f\"Item('{self.name}', {self.price}, {self.quantity})\"\n",
    "\n",
    "item1 = Item(\"Phone\", 100, 1)\n",
    "item2 = Item(\"Laptop\", 1000, 3)\n",
    "item3 = Item(\"Cable\", 10, 5)\n",
    "item4 = Item(\"Mouse\", 50, 5)\n",
    "item5 = Item(\"Keyboard\", 75, 5)\n",
    "\n",
    "print(Item.all)"
   ]
  },
  {
   "cell_type": "markdown",
   "id": "26845c18-0b04-47a6-b537-8efd28402e93",
   "metadata": {},
   "source": [
    "## Class Method"
   ]
  },
  {
   "cell_type": "markdown",
   "id": "d3e8cddc-47a2-47b1-9cac-d8511c10a98c",
   "metadata": {},
   "source": [
    "We are defining our object under the class definition thus if we want to extend the program with more functionality, it will be harder to maintain such application.\n",
    "A basic solution would be using csv data format to save the data we will be creating. Of course a db solution is better but to keep it simple, CSV implementation will be followed."
   ]
  },
  {
   "cell_type": "markdown",
   "id": "103c42b8-a334-4935-9f44-3f4fb9633045",
   "metadata": {},
   "source": [
    "```# item.csv\n",
    "name,price,quantity\n",
    "\"Phone\",100,1\n",
    "\"Laptop\",1000,3\n",
    "\"Cable\",10,5\n",
    "\"Mouse\",50,5\n",
    "\"Keyboard\",75,5\n",
    "```"
   ]
  },
  {
   "cell_type": "code",
   "execution_count": 15,
   "id": "f8b6c9d3-cbf9-4f1c-b0ae-69506edb6634",
   "metadata": {},
   "outputs": [],
   "source": [
    "class Item:\n",
    "    pay_rate = 0.8 #The pay rate after 20% discount\n",
    "    all = []\n",
    "    def __init__(self, name: str, price: float, quantity=0):\n",
    "        # Run validations to the received arguments\n",
    "        assert price >= 0, f\"Price {price} is not greater than zero\"\n",
    "        assert quantity >=0, f\"Quantity {quantity} is not greater than zero\"\n",
    "        \n",
    "        # Assign the self object\n",
    "        self.name = name\n",
    "        self.price = price\n",
    "        self.quantity = quantity\n",
    "\n",
    "        # Actions to execute\n",
    "        Item.all.append(self)\n",
    "        \n",
    "    def calculate_total_price(self):\n",
    "        return self.price * self.quantity\n",
    "\n",
    "    def apply_discount(self):\n",
    "        self.price = self.price * self.pay_rate\n",
    "\n",
    "    def instantiate_from_csv(self):\n",
    "        pass\n",
    "        # We are not going to have any instance in our hand to call this method so this method could not be called from an instance.\n",
    "        #In order to solve this problem we will convert it into a class method.\n",
    "\n",
    "    def __repr__(self):\n",
    "        return f\"Item('{self.name}', {self.price}, {self.quantity})\""
   ]
  },
  {
   "cell_type": "markdown",
   "id": "4ea1da01-b1cf-4613-8791-6098ea8e1dd2",
   "metadata": {},
   "source": [
    "```\n",
    "This is the way to define and convert the method into a class method.\n",
    "@classmethod\n",
    "def instantiate_from_csv(cls):\n",
    "```"
   ]
  },
  {
   "cell_type": "code",
   "execution_count": 30,
   "id": "cf3da737-5f86-4fc0-b4fe-8d50b56da2de",
   "metadata": {
    "scrolled": true
   },
   "outputs": [
    {
     "name": "stdout",
     "output_type": "stream",
     "text": [
      "[Item('Phone', 100.0, 1), Item('Laptop', 1000.0, 3), Item('Cable', 10.0, 5), Item('Mouse', 50.0, 5), Item('Keyboard', 75.0, 5)]\n"
     ]
    }
   ],
   "source": [
    "import csv\n",
    "\n",
    "class Item:\n",
    "    pay_rate = 0.8 #The pay rate after 20% discount\n",
    "    all = []\n",
    "    def __init__(self, name: str, price: float, quantity=0):\n",
    "        # Run validations to the received arguments\n",
    "        assert price >= 0, f\"Price {price} is not greater than zero\"\n",
    "        assert quantity >=0, f\"Quantity {quantity} is not greater than zero\"\n",
    "        \n",
    "        # Assign the self object\n",
    "        self.name = name\n",
    "        self.price = price\n",
    "        self.quantity = quantity\n",
    "\n",
    "        # Actions to execute\n",
    "        Item.all.append(self)\n",
    "        \n",
    "    def calculate_total_price(self):\n",
    "        return self.price * self.quantity\n",
    "\n",
    "    def apply_discount(self):\n",
    "        self.price = self.price * self.pay_rate\n",
    "\n",
    "    @classmethod\n",
    "    def instantiate_from_csv(cls):\n",
    "        with open('items.csv', 'r') as f:\n",
    "            reader = csv.DictReader(f)\n",
    "            items = list(reader)\n",
    "\n",
    "        for item in items:\n",
    "            Item(\n",
    "                name=item.get('name'),\n",
    "                price=float(item.get('price')),\n",
    "                quantity=int(item.get('quantity'))\n",
    "            )\n",
    "            \n",
    "    def __repr__(self):\n",
    "        return f\"Item('{self.name}', {self.price}, {self.quantity})\"\n",
    "\n",
    "Item.instantiate_from_csv()\n",
    "print(Item.all)"
   ]
  },
  {
   "cell_type": "markdown",
   "id": "82468724-33e5-4ac2-9dbb-996da9feaaba",
   "metadata": {},
   "source": [
    "## Static Methods"
   ]
  },
  {
   "cell_type": "markdown",
   "id": "a69b3569-d4b1-410d-bbba-0dd36baf1f2e",
   "metadata": {},
   "source": [
    "1:04:02'den devam."
   ]
  },
  {
   "cell_type": "code",
   "execution_count": null,
   "id": "b69237a1-04e3-42a7-870b-42bc2200e96e",
   "metadata": {},
   "outputs": [],
   "source": []
  }
 ],
 "metadata": {
  "kernelspec": {
   "display_name": "Python 3 (ipykernel)",
   "language": "python",
   "name": "python3"
  },
  "language_info": {
   "codemirror_mode": {
    "name": "ipython",
    "version": 3
   },
   "file_extension": ".py",
   "mimetype": "text/x-python",
   "name": "python",
   "nbconvert_exporter": "python",
   "pygments_lexer": "ipython3",
   "version": "3.11.3"
  }
 },
 "nbformat": 4,
 "nbformat_minor": 5
}
